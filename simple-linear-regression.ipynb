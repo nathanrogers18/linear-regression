{
 "cells": [
  {
   "cell_type": "markdown",
   "metadata": {},
   "source": [
    "## Requirements\n",
    "\n",
    "- Make sure your findings are well-organized, using Markdown headers and formatting to separate sections.\n",
    "- Ensure your notebook runs when all the outputs are cleared and the cells are run in order (restart your kernel, clear all outputs, and run all cells).\n",
    "\n",
    "### Advanced Mode\n",
    "\n",
    "Find another source of data that you suspect may have a single- or multiple-linear relationship, attempt to find a best fit model for the data, and report your findings, showing chart(s) as necessary.\n",
    "\n"
   ]
  },
  {
   "cell_type": "code",
   "execution_count": 45,
   "metadata": {
    "collapsed": true
   },
   "outputs": [],
   "source": [
    "import itertools as it\n",
    "import pandas as pd\n",
    "import matplotlib.pyplot as plt\n",
    "import numpy as np\n",
    "from sklearn import linear_model\n",
    "from matplotlib import cm\n",
    "%matplotlib inline"
   ]
  },
  {
   "cell_type": "markdown",
   "metadata": {},
   "source": [
    "## Ground Cricket Chirps\n",
    "\n",
    "In _The Song of Insects_ (1948) by George W. Pierce, Pierce mechanically measured the frequency (the number of wing vibrations per second) of chirps (or pulses of sound) made by a striped ground cricket, at various ground temperatures.  Since crickets are ectotherms (cold-blooded), the rate of their physiological processes and their overall metabolism are influenced by temperature.  Consequently, there is reason to believe that temperature would have a profound effect on aspects of their behavior, such as chirp frequency.\n",
    "\n",
    "In general, it was found that crickets did not sing at temperatures colder than 60&deg; F or warmer than 100&deg; F."
   ]
  },
  {
   "cell_type": "code",
   "execution_count": 2,
   "metadata": {
    "collapsed": false
   },
   "outputs": [],
   "source": [
    "ground_cricket_data = {\"Chirps/Second\": [20.0, 16.0, 19.8, 18.4, 17.1, 15.5, 14.7,\n",
    "                                         15.7, 15.4, 16.3, 15.0, 17.2, 16.0, 17.0,\n",
    "                                         14.4],\n",
    "                       \"Ground Temperature\": [88.6, 71.6, 93.3, 84.3, 80.6, 75.2, 69.7,\n",
    "                                              71.6, 69.4, 83.3, 79.6, 82.6, 80.6, 83.5,\n",
    "                                              76.3]}\n",
    "df = pd.DataFrame(ground_cricket_data)"
   ]
  },
  {
   "cell_type": "markdown",
   "metadata": {},
   "source": [
    "1) Find the linear regression equation for this data."
   ]
  },
  {
   "cell_type": "code",
   "execution_count": 3,
   "metadata": {
    "collapsed": false
   },
   "outputs": [
    {
     "name": "stdout",
     "output_type": "stream",
     "text": [
      "Intercept: 0.459\n",
      "Coefficients: 0.203\n"
     ]
    },
    {
     "name": "stderr",
     "output_type": "stream",
     "text": [
      "/Users/nrogers/Desktop/IronYard/linear-regression/.direnv/python-3.5.1/lib/python3.5/site-packages/scipy/linalg/basic.py:884: RuntimeWarning: internal gelsd driver lwork query error, required iwork dimension not returned. This is likely the result of LAPACK bug 0038, fixed in LAPACK 3.2.2 (released July 21, 2010). Falling back to 'gelss' driver.\n",
      "  warnings.warn(mesg, RuntimeWarning)\n"
     ]
    }
   ],
   "source": [
    "regr = linear_model.LinearRegression()\n",
    "fit = regr.fit(df[[1]], df[[0]])\n",
    "print('Intercept: %.3f' % regr.intercept_[0])\n",
    "print('Coefficients: %.3f' % regr.coef_[0][0])"
   ]
  },
  {
   "cell_type": "markdown",
   "metadata": {},
   "source": [
    "$$ Chirps/Second =  Ground Temperature * 0.203 + 0.459 $$"
   ]
  },
  {
   "cell_type": "markdown",
   "metadata": {},
   "source": [
    "2) Chart the original data and the equation on the chart."
   ]
  },
  {
   "cell_type": "code",
   "execution_count": 4,
   "metadata": {
    "collapsed": false
   },
   "outputs": [
    {
     "data": {
      "text/plain": [
       "[<matplotlib.lines.Line2D at 0x1167d3a20>]"
      ]
     },
     "execution_count": 4,
     "metadata": {},
     "output_type": "execute_result"
    },
    {
     "data": {
      "image/png": "[encoded data removed]",
      "text/plain": [
       "<matplotlib.figure.Figure at 0x1167d3b38>"
      ]
     },
     "metadata": {},
     "output_type": "display_data"
    }
   ],
   "source": [
    "df.plot(kind=\"scatter\",x=\"Ground Temperature\", y=\"Chirps/Second\", figsize=(10, 6))\n",
    "plt.plot(df[[1]], regr.predict(df[[1]]), color='blue', linewidth=3)\n",
    "#x_val = pd.DataFrame(list(range(95)))\n",
    "#plt.plot(x_val, regr.predict(x_val), color='blue', linewidth=3)"
   ]
  },
  {
   "cell_type": "markdown",
   "metadata": {},
   "source": [
    "3) Find the equation's $R^2$ score (use the `.score` method) to determine whether the equation is a good fit for this data. (0.8 and greater is considered a strong correlation.)\n"
   ]
  },
  {
   "cell_type": "code",
   "execution_count": 5,
   "metadata": {
    "collapsed": false
   },
   "outputs": [
    {
     "name": "stdout",
     "output_type": "stream",
     "text": [
      "Variance score: 0.692\n"
     ]
    }
   ],
   "source": [
    "print('Variance score: %.3f' % regr.score(df[[1]], df[[0]]))"
   ]
  },
  {
   "cell_type": "markdown",
   "metadata": {},
   "source": [
    "4) Extrapolate data:  If the ground temperature reached 95&deg; F, then at what approximate rate would you expect the crickets to be chirping?\n"
   ]
  },
  {
   "cell_type": "code",
   "execution_count": 6,
   "metadata": {
    "collapsed": false
   },
   "outputs": [
    {
     "name": "stdout",
     "output_type": "stream",
     "text": [
      "Predicted chirping rate at 95 degrees: 19.74 chirps/second\n"
     ]
    }
   ],
   "source": [
    "print(\"Predicted chirping rate at 95 degrees: %.2f chirps/second\" % regr.predict(95)[0][0])"
   ]
  },
  {
   "cell_type": "markdown",
   "metadata": {},
   "source": [
    "5) Interpolate data:  With a listening device, you discovered that on a particular morning the crickets were chirping at a rate of 18 chirps per second.  What was the approximate ground temperature that morning?"
   ]
  },
  {
   "cell_type": "code",
   "execution_count": 7,
   "metadata": {
    "collapsed": false
   },
   "outputs": [
    {
     "name": "stdout",
     "output_type": "stream",
     "text": [
      "Approximate Temp: 86.41 degrees\n"
     ]
    }
   ],
   "source": [
    "approx_temp = (18 - regr.intercept_[0]) / regr.coef_[0][0]\n",
    "print(\"Approximate Temp: %.2f degrees\" % approx_temp)"
   ]
  },
  {
   "cell_type": "markdown",
   "metadata": {},
   "source": [
    "## Brain vs. Body Weight\n",
    "\n",
    "In the file `brain_body.txt`, the average brain and body weight for a number of mammal species are recorded. Load this data into a Pandas data frame."
   ]
  },
  {
   "cell_type": "code",
   "execution_count": 8,
   "metadata": {
    "collapsed": false
   },
   "outputs": [],
   "source": [
    "brain_df = pd.read_fwf(\"brain_body.txt\")"
   ]
  },
  {
   "cell_type": "markdown",
   "metadata": {},
   "source": [
    "1) Find the linear regression equation for this data for brain weight to body weight."
   ]
  },
  {
   "cell_type": "code",
   "execution_count": 9,
   "metadata": {
    "collapsed": false
   },
   "outputs": [
    {
     "name": "stdout",
     "output_type": "stream",
     "text": [
      "Intercept: -56.856\n",
      "Coefficients: 0.903\n"
     ]
    }
   ],
   "source": [
    "brain_regr = linear_model.LinearRegression()\n",
    "fit = brain_regr.fit(brain_df[[1]], brain_df[[0]])\n",
    "print('Intercept: %.3f' % brain_regr.intercept_[0])\n",
    "print('Coefficients: %.3f' % brain_regr.coef_[0][0])"
   ]
  },
  {
   "cell_type": "markdown",
   "metadata": {},
   "source": [
    "$$ Body Weight =  Brain Weight * 0.903 - 56.856$$"
   ]
  },
  {
   "cell_type": "markdown",
   "metadata": {},
   "source": [
    "2) Chart the original data and the equation on the chart."
   ]
  },
  {
   "cell_type": "code",
   "execution_count": 10,
   "metadata": {
    "collapsed": false
   },
   "outputs": [
    {
     "data": {
      "text/plain": [
       "[<matplotlib.lines.Line2D at 0x11683db00>]"
      ]
     },
     "execution_count": 10,
     "metadata": {},
     "output_type": "execute_result"
    },
    {
     "data": {
      "image/png": "[encoded data removed]",
      "text/plain": [
       "<matplotlib.figure.Figure at 0x1168a6748>"
      ]
     },
     "metadata": {},
     "output_type": "display_data"
    }
   ],
   "source": [
    "brain_df.plot(kind=\"scatter\",x=\"Brain\", y=\"Body\", figsize=(10, 6))\n",
    "plt.plot(brain_df[[0]], brain_regr.predict(brain_df[[0]]), color='blue', linewidth=3)"
   ]
  },
  {
   "cell_type": "markdown",
   "metadata": {},
   "source": [
    "3) Find the equation's $R^2$ score (use the `.score` method) to determine whether the equation is a good fit for this data. (0.8 and greater is considered a strong correlation.)"
   ]
  },
  {
   "cell_type": "code",
   "execution_count": 11,
   "metadata": {
    "collapsed": false
   },
   "outputs": [
    {
     "name": "stdout",
     "output_type": "stream",
     "text": [
      "Variance score: 0.839\n"
     ]
    }
   ],
   "source": [
    "print('Variance score: %.3f' % brain_regr.score(brain_df[[0]], brain_df[[1]]))\n"
   ]
  },
  {
   "cell_type": "markdown",
   "metadata": {},
   "source": [
    "## Salary Discrimination\n",
    "\n",
    "The file `salary.txt` contains data for 52 tenure-track professors at a small Midwestern college. This data was used in legal proceedings in the 1980s about discrimination against women in salary.\n",
    "\n",
    "The data in the file, by column:\n",
    "\n",
    "1. Sex. 1 for female, 0 for male.\n",
    "2. Rank. 1 for assistant professor, 2 for associate professor, 3 for full professor.\n",
    "3. Year. Number of years in current rank.\n",
    "4. Degree. Highest degree. 1 for doctorate, 0 for master's.\n",
    "5. YSdeg. Years since highest degree was earned.\n",
    "6. Salary. Salary/year in dollars."
   ]
  },
  {
   "cell_type": "code",
   "execution_count": 41,
   "metadata": {
    "collapsed": false
   },
   "outputs": [],
   "source": [
    "sal_df = pd.read_fwf(\"salary.txt\", header=None, \n",
    "                 names=[\"Sex\", \"Rank\", \"Year\", \"Degree\", \"YSdeg\", \"Salary\"])"
   ]
  },
  {
   "cell_type": "code",
   "execution_count": 42,
   "metadata": {
    "collapsed": false
   },
   "outputs": [],
   "source": [
    "combos = []\n",
    "names=[\"Sex\", \"Rank\", \"Year\", \"Degree\", \"YSdeg\", \"Salary\"]\n",
    "for i in range(1,5):\n",
    "    combos += list(it.combinations(names[:-1], i))"
   ]
  },
  {
   "cell_type": "code",
   "execution_count": 59,
   "metadata": {
    "collapsed": false
   },
   "outputs": [
    {
     "data": {
      "image/png": "[encoded data removed]",
      "text/plain": [
       "<matplotlib.figure.Figure at 0x11976d2e8>"
      ]
     },
     "metadata": {},
     "output_type": "display_data"
    }
   ],
   "source": [
    "cmap = cm.get_cmap('plasma')\n",
    "fig, axs = plt.subplots(1, 5, sharey=True, figsize=(16, 8))\n",
    "for i, name in enumerate(names[:-1]):\n",
    "    sal_df.plot(kind='scatter', x=name, y=\"Salary\", ax=axs[i], c='Sex', cmap=cmap, colorbar=False, s=40)\n",
    "\n",
    "# sal_df.plot(kind='scatter', x='Sex', y='Salary', ax=axs[0])\n",
    "# sal_df.plot(kind='scatter', x='Rank', y='Salary', ax=axs[1])\n",
    "# sal_df.plot(kind='scatter', x='Year', y='Salary', ax=axs[2], c='Sex', cmap=cmap, colorbar=False)\n",
    "# sal_df.plot(kind='scatter', x='Degree', y='Salary', ax=axs[3])\n",
    "# sal_df.plot(kind='scatter', x='YSdeg', y='Salary', ax=axs[4])"
   ]
  },
  {
   "cell_type": "markdown",
   "metadata": {},
   "source": [
    "1) Find the linear regression equation for this data using columns 1-5 to column 6."
   ]
  },
  {
   "cell_type": "code",
   "execution_count": 60,
   "metadata": {
    "collapsed": false
   },
   "outputs": [
    {
     "name": "stdout",
     "output_type": "stream",
     "text": [
      "Salary vs ['Sex']\n",
      "Intercept: 24696.789\n",
      "Variance score: 0.064\n",
      "Sex Coefficient: -3339.65\n",
      "\n",
      "Salary vs ['Rank']\n",
      "Intercept: 11663.143\n",
      "Variance score: 0.753\n",
      "Sex Coefficient: 5952.78\n",
      "\n",
      "Salary vs ['Year']\n",
      "Intercept: 18166.148\n",
      "Variance score: 0.491\n",
      "Sex Coefficient: 752.80\n",
      "\n",
      "Salary vs ['Degree']\n",
      "Intercept: 24359.222\n",
      "Variance score: 0.005\n",
      "Sex Coefficient: -858.87\n",
      "\n",
      "Salary vs ['YSdeg']\n",
      "Intercept: 17502.257\n",
      "Variance score: 0.455\n",
      "Sex Coefficient: 390.65\n",
      "\n",
      "Salary vs ['Sex', 'Rank']\n",
      "Intercept: 12041.938\n",
      "Variance score: 0.755\n",
      "Sex Coefficient: -738.13\n",
      "Rank Coefficient: 5864.44\n",
      "\n",
      "Salary vs ['Sex', 'Year']\n",
      "Intercept: 18065.405\n",
      "Variance score: 0.491\n",
      "Sex Coefficient: 201.47\n",
      "Rank Coefficient: 759.01\n",
      "\n",
      "Salary vs ['Sex', 'Degree']\n",
      "Intercept: 25089.925\n",
      "Variance score: 0.066\n",
      "Sex Coefficient: -3288.16\n",
      "Rank Coefficient: -622.47\n",
      "\n",
      "Salary vs ['Sex', 'YSdeg']\n",
      "Intercept: 18355.233\n",
      "Variance score: 0.493\n",
      "Sex Coefficient: -2572.53\n",
      "Rank Coefficient: 380.69\n",
      "\n",
      "Salary vs ['Rank', 'Year']\n",
      "Intercept: 11336.665\n",
      "Variance score: 0.844\n",
      "Sex Coefficient: 4731.26\n",
      "Rank Coefficient: 376.50\n",
      "\n",
      "Salary vs ['Rank', 'Degree']\n",
      "Intercept: 12134.686\n",
      "Variance score: 0.756\n",
      "Sex Coefficient: 5947.07\n",
      "Rank Coefficient: -703.39\n",
      "\n",
      "Salary vs ['Rank', 'YSdeg']\n",
      "Intercept: 11718.894\n",
      "Variance score: 0.762\n",
      "Sex Coefficient: 5292.86\n",
      "Rank Coefficient: 80.02\n",
      "\n",
      "Salary vs ['Year', 'Degree']\n",
      "Intercept: 17877.264\n",
      "Variance score: 0.492\n",
      "Sex Coefficient: 757.63\n",
      "Rank Coefficient: 386.52\n",
      "\n",
      "Salary vs ['Year', 'YSdeg']\n",
      "Intercept: 16555.690\n",
      "Variance score: 0.578\n",
      "Sex Coefficient: 489.29\n",
      "Rank Coefficient: 222.25\n",
      "\n",
      "Salary vs ['Degree', 'YSdeg']\n",
      "Intercept: 13308.113\n",
      "Variance score: 0.541\n",
      "Sex Coefficient: 4113.89\n",
      "Rank Coefficient: 483.99\n",
      "\n",
      "Salary vs ['Sex', 'Rank', 'Year']\n",
      "Intercept: 11011.763\n",
      "Variance score: 0.845\n",
      "Sex Coefficient: 603.77\n",
      "Rank Coefficient: 4747.18\n",
      "Year Coefficient: 393.86\n",
      "\n",
      "Salary vs ['Sex', 'Rank', 'Degree']\n",
      "Intercept: 12453.833\n",
      "Variance score: 0.758\n",
      "Sex Coefficient: -683.29\n",
      "Rank Coefficient: 5865.68\n",
      "Year Coefficient: -656.39\n",
      "\n",
      "Salary vs ['Sex', 'Rank', 'YSdeg']\n",
      "Intercept: 12177.569\n",
      "Variance score: 0.767\n",
      "Sex Coefficient: -886.42\n",
      "Rank Coefficient: 5142.07\n",
      "Year Coefficient: 85.44\n",
      "\n",
      "Salary vs ['Sex', 'Year', 'Degree']\n",
      "Intercept: 17785.044\n",
      "Variance score: 0.492\n",
      "Sex Coefficient: 190.58\n",
      "Rank Coefficient: 763.46\n",
      "Year Coefficient: 382.40\n",
      "\n",
      "Salary vs ['Sex', 'Year', 'YSdeg']\n",
      "Intercept: 16867.254\n",
      "Variance score: 0.581\n",
      "Sex Coefficient: -746.41\n",
      "Rank Coefficient: 456.17\n",
      "Year Coefficient: 230.76\n",
      "\n",
      "Salary vs ['Sex', 'Degree', 'YSdeg']\n",
      "Intercept: 14096.656\n",
      "Variance score: 0.583\n",
      "Sex Coefficient: -2730.15\n",
      "Rank Coefficient: 4228.35\n",
      "Year Coefficient: 476.03\n",
      "\n",
      "Salary vs ['Rank', 'Year', 'Degree']\n",
      "Intercept: 11418.288\n",
      "Variance score: 0.844\n",
      "Sex Coefficient: 4736.48\n",
      "Rank Coefficient: 374.59\n",
      "Year Coefficient: -119.29\n",
      "\n",
      "Salary vs ['Rank', 'Year', 'YSdeg']\n",
      "Intercept: 11282.897\n",
      "Variance score: 0.846\n",
      "Sex Coefficient: 4973.64\n",
      "Rank Coefficient: 405.67\n",
      "Year Coefficient: -40.86\n",
      "\n",
      "Salary vs ['Rank', 'Degree', 'YSdeg']\n",
      "Intercept: 11604.062\n",
      "Variance score: 0.763\n",
      "Sex Coefficient: 5230.64\n",
      "Rank Coefficient: 179.32\n",
      "Year Coefficient: 87.74\n",
      "\n",
      "Salary vs ['Year', 'Degree', 'YSdeg']\n",
      "Intercept: 13548.735\n",
      "Variance score: 0.624\n",
      "Sex Coefficient: 414.10\n",
      "Rank Coefficient: 3092.11\n",
      "Year Coefficient: 318.29\n",
      "\n",
      "Salary vs ['Sex', 'Rank', 'Year', 'Degree']\n",
      "Intercept: 11101.274\n",
      "Variance score: 0.846\n",
      "Sex Coefficient: 608.10\n",
      "Rank Coefficient: 4753.17\n",
      "Year Coefficient: 391.84\n",
      "Degree Coefficient: -134.22\n",
      "\n",
      "Salary vs ['Sex', 'Rank', 'Year', 'YSdeg']\n",
      "Intercept: 10794.878\n",
      "Variance score: 0.849\n",
      "Sex Coefficient: 867.34\n",
      "Rank Coefficient: 5092.47\n",
      "Year Coefficient: 442.16\n",
      "Degree Coefficient: -57.04\n",
      "\n",
      "Salary vs ['Sex', 'Rank', 'Degree', 'YSdeg']\n",
      "Intercept: 11955.799\n",
      "Variance score: 0.767\n",
      "Sex Coefficient: -950.05\n",
      "Rank Coefficient: 4993.25\n",
      "Year Coefficient: 397.71\n",
      "Degree Coefficient: 102.95\n",
      "\n",
      "Salary vs ['Sex', 'Year', 'Degree', 'YSdeg']\n",
      "Intercept: 13884.223\n",
      "Variance score: 0.631\n",
      "Sex Coefficient: -1286.54\n",
      "Rank Coefficient: 351.97\n",
      "Year Coefficient: 3299.35\n",
      "Degree Coefficient: 339.40\n",
      "\n",
      "Salary vs ['Rank', 'Year', 'Degree', 'YSdeg']\n",
      "Intercept: 11836.609\n",
      "Variance score: 0.849\n",
      "Sex Coefficient: 5270.23\n",
      "Rank Coefficient: 422.39\n",
      "Year Coefficient: -892.72\n",
      "Degree Coefficient: -84.28\n",
      "\n"
     ]
    }
   ],
   "source": [
    "\n",
    "# sal_regr = linear_model.LinearRegression()\n",
    "# sal_regr.fit(sal_df[names[:-1]], sal_df[[\"Salary\"]])\n",
    "# coefficients = sal_regr.coef_[0]\n",
    "# for i in range(5):\n",
    "#     print(\"{} Coefficient: {:.2f}\".format(names[i], float(coefficients[i])))\n",
    "# print('Intercept: %.3f' % sal_regr.intercept_[0])\n",
    "\n",
    "\n",
    "\n",
    "for combo in combos:\n",
    "    categories = list(combo)\n",
    "    print(\"Salary vs {}\".format(categories))\n",
    "    sal_regr = linear_model.LinearRegression()\n",
    "    sal_regr.fit(sal_df[categories], sal_df[[5]])\n",
    "    names=[\"Sex\", \"Rank\", \"Year\", \"Degree\", \"YSdeg\", \"Salary\"]\n",
    "    coefficients = sal_regr.coef_[0]\n",
    "    print('Intercept: %.3f' % sal_regr.intercept_[0])\n",
    "    print('Variance score: %.3f' % sal_regr.score(sal_df[categories], sal_df[[5]]))\n",
    "    for i in range(len(combo)):\n",
    "        print(\"{} Coefficient: {:.2f}\".format(names[i], float(coefficients[i])))\n",
    "    print('')"
   ]
  },
  {
   "cell_type": "markdown",
   "metadata": {},
   "source": [
    "2) Find the selection of columns with the best $R^2$ score."
   ]
  },
  {
   "cell_type": "code",
   "execution_count": null,
   "metadata": {
    "collapsed": false
   },
   "outputs": [],
   "source": [
    "print('Total Variance score: %.2f' % sal_regr.score(sal_df[[0,1,2,3,4]], sal_df[[5]]))\n",
    "\n",
    "sal_regr.score(sal_df[[0]], sal_df[[5]])\n",
    "\n",
    "#for j in range(5):\n",
    "    #print(sal_df[[j]])\n",
    "    #print(sal_regr.score(sal_df[[j]], sal_df[[5]]))\n",
    "    #print(\"{} Variance score: {:.2f}\".format(names[i], sal_regr.score(sal_df[[j]], sal_df[[5]])))"
   ]
  },
  {
   "cell_type": "markdown",
   "metadata": {},
   "source": [
    "3) Report whether sex is a factor in salary. Support your argument with graph(s) if appropriate."
   ]
  },
  {
   "cell_type": "code",
   "execution_count": null,
   "metadata": {
    "collapsed": true
   },
   "outputs": [],
   "source": []
  }
 ],
 "metadata": {
  "kernelspec": {
   "display_name": "Python 3",
   "language": "python",
   "name": "python3"
  },
  "language_info": {
   "codemirror_mode": {
    "name": "ipython",
    "version": 3
   },
   "file_extension": ".py",
   "mimetype": "text/x-python",
   "name": "python",
   "nbconvert_exporter": "python",
   "pygments_lexer": "ipython3",
   "version": "3.5.1"
  }
 },
 "nbformat": 4,
 "nbformat_minor": 0
}
